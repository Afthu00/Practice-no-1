{
  "nbformat": 4,
  "nbformat_minor": 0,
  "metadata": {
    "colab": {
      "provenance": [],
      "toc_visible": true
    },
    "kernelspec": {
      "name": "python3",
      "display_name": "Python 3"
    },
    "language_info": {
      "name": "python"
    }
  },
  "cells": [
    {
      "cell_type": "markdown",
      "source": [
        "1.Write a Python program which accepts the radius of a circle from the user\n",
        "and compute the area."
      ],
      "metadata": {
        "id": "jKEjJuJdNY-h"
      }
    },
    {
      "cell_type": "markdown",
      "source": [],
      "metadata": {
        "id": "Y0A1yWrOYl8L"
      }
    },
    {
      "cell_type": "code",
      "execution_count": null,
      "metadata": {
        "colab": {
          "base_uri": "https://localhost:8080/"
        },
        "id": "qEOOzJz9Kfbg",
        "outputId": "25796167-1e64-4326-c218-0c341447495d"
      },
      "outputs": [
        {
          "output_type": "stream",
          "name": "stdout",
          "text": [
            "Enter the radius of the circle: 12\n",
            "The area of the circle is: 452.3893421169302\n"
          ]
        }
      ],
      "source": [
        "import math\n",
        "\n",
        "def calculate_circle_area():\n",
        "   radius = float(input(\"Enter the radius of the circle: \"))\n",
        "   area = math.pi * radius**2\n",
        "\n",
        "   print(\"The area of the circle is:\", area)\n",
        "\n",
        "calculate_circle_area()"
      ]
    },
    {
      "cell_type": "markdown",
      "source": [
        "2.Write a Python Program to accept the details of a student like name, roll\n",
        "number and mark and display it.\n"
      ],
      "metadata": {
        "id": "eJG4ycaBYogj"
      }
    },
    {
      "cell_type": "code",
      "source": [
        "student_name = input(\"Enter student name: \")\n",
        "student_roll_no = input(\"Enter student roll number: \")\n",
        "student_mark = float(input(\"Enter student mark: \"))\n",
        "\n",
        "print(\"Student name:\", student_name)\n",
        "print(\"Student roll number:\", student_roll_no)\n",
        "print(\"Student mark:\", student_mark)\n"
      ],
      "metadata": {
        "colab": {
          "base_uri": "https://localhost:8080/"
        },
        "id": "tF3zBau8YyEC",
        "outputId": "ec4b0d62-3f02-4f6c-9ff6-e9664054a517"
      },
      "execution_count": 1,
      "outputs": [
        {
          "output_type": "stream",
          "name": "stdout",
          "text": [
            "Enter student name: Afthab\n",
            "Enter student roll number: 14\n",
            "Enter student mark: 498\n",
            "Student name: Afthab\n",
            "Student roll number: 14\n",
            "Student mark: 498.0\n"
          ]
        }
      ]
    },
    {
      "cell_type": "markdown",
      "source": [
        "3.Write a Python program to get the largest number from a list."
      ],
      "metadata": {
        "id": "Mks-04kGZX5r"
      }
    },
    {
      "cell_type": "code",
      "source": [
        "list3 = [10, 2, 4, 58, 64, 45, 88, 9]\n",
        "largest_number = max(list3)\n",
        "print(\"The largest number in the list is:\", largest_number)\n"
      ],
      "metadata": {
        "colab": {
          "base_uri": "https://localhost:8080/"
        },
        "id": "d56ON5uPZZ3p",
        "outputId": "bfb7149f-b50a-467f-bd31-68edad92586c"
      },
      "execution_count": 4,
      "outputs": [
        {
          "output_type": "stream",
          "name": "stdout",
          "text": [
            "The largest number in the list is: 88\n"
          ]
        }
      ]
    },
    {
      "cell_type": "markdown",
      "source": [
        "4.Given a range of first 10 numbers, write a Python program to iterate from\n",
        "start number to the end number and print the sum of the current number\n",
        "and previous number."
      ],
      "metadata": {
        "id": "yWqkCRZzZ-A8"
      }
    },
    {
      "cell_type": "code",
      "source": [
        "for i in range(3, 12):\n",
        "    sum = i + (i-1)\n",
        "    print(sum)\n"
      ],
      "metadata": {
        "colab": {
          "base_uri": "https://localhost:8080/"
        },
        "id": "n-DkxDsbaKvj",
        "outputId": "6adb27ac-1ec3-48f0-8ed5-c69f1cc617c9"
      },
      "execution_count": 7,
      "outputs": [
        {
          "output_type": "stream",
          "name": "stdout",
          "text": [
            "5\n",
            "7\n",
            "9\n",
            "11\n",
            "13\n",
            "15\n",
            "17\n",
            "19\n",
            "21\n"
          ]
        }
      ]
    },
    {
      "cell_type": "markdown",
      "source": [
        "5.Write a Python program to print only those numbers which are divisible\n",
        "of 5."
      ],
      "metadata": {
        "id": "fqRF_4pGatkd"
      }
    },
    {
      "cell_type": "code",
      "source": [
        "user_input = input(\"Enter numbers separated by commas: \")\n",
        "\n",
        "numbers = [int(n) for n in user_input.split(\",\")]\n",
        "\n",
        "divisible_by_5 = [n for n in numbers if n % 5 == 0]\n",
        "\n",
        "print('numbers divisible by five are',divisible_by_5)\n",
        "\n",
        "\n"
      ],
      "metadata": {
        "colab": {
          "base_uri": "https://localhost:8080/"
        },
        "id": "7FXyYhOcazjr",
        "outputId": "1f868615-ccdc-40b9-9334-8780a2c4a942"
      },
      "execution_count": 40,
      "outputs": [
        {
          "output_type": "stream",
          "name": "stdout",
          "text": [
            "Enter numbers separated by commas: 12,55,48,79,20\n",
            "numbers divisible by five are [55, 20]\n"
          ]
        }
      ]
    },
    {
      "cell_type": "markdown",
      "source": [
        "6.Write a Python program to check whether a number is prime or not"
      ],
      "metadata": {
        "id": "hSv0NuofbWXc"
      }
    },
    {
      "cell_type": "code",
      "source": [
        "n = int(input(\"Enter a number: \"))\n",
        "if n > 1:\n",
        "    for i in range(2, int(n ** 0.5) + 1):\n",
        "        if n % i == 0:\n",
        "            print(n, \"is not a prime number\")\n",
        "            break\n",
        "    else:\n",
        "        print(n, \"is a prime number\")\n",
        "else:\n",
        "    print(n, \"is not a prime number\")\n"
      ],
      "metadata": {
        "colab": {
          "base_uri": "https://localhost:8080/"
        },
        "id": "aFUuWxY1bczz",
        "outputId": "cfc53e21-aab1-4c19-f2f3-626435ed5120"
      },
      "execution_count": 8,
      "outputs": [
        {
          "output_type": "stream",
          "name": "stdout",
          "text": [
            "Enter a number: 23\n",
            "23 is a prime number\n"
          ]
        }
      ]
    },
    {
      "cell_type": "markdown",
      "source": [
        "7.Write a Python program to reverse a list using for loop."
      ],
      "metadata": {
        "id": "LLGsMYo4cVNr"
      }
    },
    {
      "cell_type": "code",
      "source": [
        "list1 = [1000, 30, 23, 15, 54]\n",
        "print(\"Original list:\", list1)\n",
        "\n",
        "list1.reverse()\n",
        "\n",
        "print(\"Reversed list:\", list1)\n"
      ],
      "metadata": {
        "colab": {
          "base_uri": "https://localhost:8080/"
        },
        "id": "RtxfW8jIcYpq",
        "outputId": "9cf1847d-e9df-456c-866c-9edc4bd853b9"
      },
      "execution_count": 10,
      "outputs": [
        {
          "output_type": "stream",
          "name": "stdout",
          "text": [
            "Original list: [1000, 30, 23, 15, 54]\n",
            "Reversed list: [54, 15, 23, 30, 1000]\n"
          ]
        }
      ]
    },
    {
      "cell_type": "markdown",
      "source": [
        "8.Write a Python program to print the following pattern.\n",
        "*\n",
        "**\n",
        "***\n",
        "****"
      ],
      "metadata": {
        "id": "kSaHmKXzcnfL"
      }
    },
    {
      "cell_type": "code",
      "source": [
        "for i in range(1, 5):\n",
        "  for j in range(i):\n",
        "    print(\"*\", end=\"\")\n",
        "  print()\n"
      ],
      "metadata": {
        "colab": {
          "base_uri": "https://localhost:8080/"
        },
        "id": "yk16pFPjcr3k",
        "outputId": "f376661c-d0d3-4f25-a1db-c4201e90371a"
      },
      "execution_count": 11,
      "outputs": [
        {
          "output_type": "stream",
          "name": "stdout",
          "text": [
            "*\n",
            "**\n",
            "***\n",
            "****\n"
          ]
        }
      ]
    },
    {
      "cell_type": "markdown",
      "source": [
        "9.Write a Python program to find the maximum of three numbers"
      ],
      "metadata": {
        "id": "CfcDvhOxdCyd"
      }
    },
    {
      "cell_type": "code",
      "source": [
        "a = int(input(\"Enter 1st number: \"))\n",
        "b = int(input(\"Enter 2nd number: \"))\n",
        "c = int(input(\"Enter 3rd number: \"))\n",
        "\n",
        "if a > b and a > c:\n",
        "    print(\"The largest number is\", a)\n",
        "elif b > a and b > c:\n",
        "    print(\"The largest number is\", b)\n",
        "else:\n",
        "    print(\"The largest number is\", c)"
      ],
      "metadata": {
        "colab": {
          "base_uri": "https://localhost:8080/"
        },
        "id": "uq7TAyDDdkXD",
        "outputId": "3a034d47-55a0-438f-bc67-9fd2bad675fb"
      },
      "execution_count": 12,
      "outputs": [
        {
          "output_type": "stream",
          "name": "stdout",
          "text": [
            "Enter 1st number: 12\n",
            "Enter 2nd number: 1000\n",
            "Enter 3rd number: 100000\n",
            "The largest number is 100000\n"
          ]
        }
      ]
    },
    {
      "cell_type": "markdown",
      "source": [
        "10. Write a Python program to construct the following pattern, using a\n",
        "nested for loop.\n",
        "*\n",
        "**\n",
        "***\n",
        "****\n",
        "*****\n",
        "****\n",
        "***\n",
        "**\n",
        "*"
      ],
      "metadata": {
        "id": "5S3HBi-Odaav"
      }
    },
    {
      "cell_type": "code",
      "source": [
        "for i in range(1, 6):\n",
        "  for j in range(i):\n",
        "    print('*', end=' ')\n",
        "  print()\n",
        "for i in range(5, 0, -1):\n",
        "  for j in range(i):\n",
        "    print('*', end=' ')\n",
        "  print()"
      ],
      "metadata": {
        "colab": {
          "base_uri": "https://localhost:8080/"
        },
        "id": "-gNQ3v-3dXFf",
        "outputId": "29ab122b-e749-44be-e015-8086273920ab"
      },
      "execution_count": null,
      "outputs": [
        {
          "output_type": "stream",
          "name": "stdout",
          "text": [
            "* \n",
            "* * \n",
            "* * * \n",
            "* * * * \n",
            "* * * * * \n",
            "* * * * * \n",
            "* * * * \n",
            "* * * \n",
            "* * \n",
            "* \n"
          ]
        }
      ]
    }
  ]
}